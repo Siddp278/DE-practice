{
 "cells": [
  {
   "cell_type": "code",
   "execution_count": 19,
   "id": "818ae9e9-4c2c-4263-b303-3047fbfaf426",
   "metadata": {},
   "outputs": [],
   "source": [
    "from pyspark.sql import SparkSession\n",
    "from pyspark.sql.functions import to_timestamp"
   ]
  },
  {
   "cell_type": "code",
   "execution_count": 2,
   "id": "bd768ada-f3e5-4257-94e6-6594d8cba8f5",
   "metadata": {},
   "outputs": [
    {
     "name": "stderr",
     "output_type": "stream",
     "text": [
      "Setting default log level to \"WARN\".\n",
      "To adjust logging level use sc.setLogLevel(newLevel). For SparkR, use setLogLevel(newLevel).\n",
      "24/12/09 20:08:37 WARN NativeCodeLoader: Unable to load native-hadoop library for your platform... using builtin-java classes where applicable\n"
     ]
    }
   ],
   "source": [
    "spark = SparkSession.builder.appName(\"practice\").getOrCreate()"
   ]
  },
  {
   "cell_type": "code",
   "execution_count": 3,
   "id": "d06c96c7-909e-4fba-8424-13dd989581b6",
   "metadata": {},
   "outputs": [],
   "source": [
    "# Dataset - https://data.cityofnewyork.us/Public-Safety/Bureau-of-Fire-Prevention-Inspections-Historical-/ssq6-fkht/about_data"
   ]
  },
  {
   "cell_type": "code",
   "execution_count": 4,
   "id": "cb1429f5-ac5d-45eb-82d1-0d3b29fdb614",
   "metadata": {},
   "outputs": [
    {
     "data": {
      "text/plain": [
       "[Row(ACCT_ID=1, ALPHA='P', ACCT_NUM=4812798, OWNER_NAME='BEN RIC FUR FASHIONS INC', LAST_VISIT_DT='03/23/2018', LAST_FULL_INSP_DT='03/23/2018', LAST_INSP_STAT='APPROVAL', PREM_ADDR='186-14 UNION TNPK', BIN='0', COMMUNITY BOARD=None, COUNCIL DISTRICT=None, BBL=None, LATITUDE=None, LONGITUDE=None, POSTCODE=None, BOROUGH=None, Number='186-14', Street='UNION TNPK', Census Tract=None, NTA=None),\n",
       " Row(ACCT_ID=2, ALPHA='P', ACCT_NUM=6486682, OWNER_NAME='RICHAL INC.', LAST_VISIT_DT='03/23/2018', LAST_FULL_INSP_DT='03/23/2018', LAST_INSP_STAT='APPROVAL', PREM_ADDR='179-10 UNION TNPK', BIN='0', COMMUNITY BOARD=None, COUNCIL DISTRICT=None, BBL=None, LATITUDE=None, LONGITUDE=None, POSTCODE=None, BOROUGH=None, Number='179-10', Street='UNION TNPK', Census Tract=None, NTA=None),\n",
       " Row(ACCT_ID=3, ALPHA='C', ACCT_NUM=6743934, OWNER_NAME='CROSSTOWN MGT. CORP.', LAST_VISIT_DT='03/29/2017', LAST_FULL_INSP_DT='03/29/2017', LAST_INSP_STAT='NOV(HOLD)', PREM_ADDR='179-18 UNION TNPK', BIN='0', COMMUNITY BOARD=None, COUNCIL DISTRICT=None, BBL=None, LATITUDE=None, LONGITUDE=None, POSTCODE=None, BOROUGH=None, Number='179-18', Street='UNION TNPK', Census Tract=None, NTA=None)]"
      ]
     },
     "execution_count": 4,
     "metadata": {},
     "output_type": "execute_result"
    }
   ],
   "source": [
    "dy = spark.read.csv(\n",
    "    \"/Users/siddp278/Desktop/projects/dummy data/spark-data/FDNY.csv\",\n",
    "    inferSchema=True, # needed, else all data is read as string\n",
    "    header=True\n",
    ")\n",
    "dy.head(3)"
   ]
  },
  {
   "cell_type": "code",
   "execution_count": 5,
   "id": "4cce1429-07ba-4c36-be3f-00581054d23a",
   "metadata": {},
   "outputs": [
    {
     "data": {
      "text/plain": [
       "400618"
      ]
     },
     "execution_count": 5,
     "metadata": {},
     "output_type": "execute_result"
    }
   ],
   "source": [
    "dy.count()"
   ]
  },
  {
   "cell_type": "code",
   "execution_count": 6,
   "id": "858565d6-b4be-46fa-bf64-b2feec700486",
   "metadata": {},
   "outputs": [
    {
     "data": {
      "text/plain": [
       "['ACCT_ID',\n",
       " 'ALPHA',\n",
       " 'ACCT_NUM',\n",
       " 'OWNER_NAME',\n",
       " 'LAST_VISIT_DT',\n",
       " 'LAST_FULL_INSP_DT',\n",
       " 'LAST_INSP_STAT',\n",
       " 'PREM_ADDR',\n",
       " 'BIN',\n",
       " 'COMMUNITY BOARD',\n",
       " 'COUNCIL DISTRICT',\n",
       " 'BBL',\n",
       " 'LATITUDE',\n",
       " 'LONGITUDE',\n",
       " 'POSTCODE',\n",
       " 'BOROUGH',\n",
       " 'Number',\n",
       " 'Street',\n",
       " 'Census Tract',\n",
       " 'NTA']"
      ]
     },
     "execution_count": 6,
     "metadata": {},
     "output_type": "execute_result"
    }
   ],
   "source": [
    "dy.columns"
   ]
  },
  {
   "cell_type": "code",
   "execution_count": 7,
   "id": "4c2fd28e-50f1-4808-88fb-594d6c5556e7",
   "metadata": {},
   "outputs": [
    {
     "name": "stdout",
     "output_type": "stream",
     "text": [
      "root\n",
      " |-- ACCT_ID: integer (nullable = true)\n",
      " |-- ALPHA: string (nullable = true)\n",
      " |-- ACCT_NUM: integer (nullable = true)\n",
      " |-- OWNER_NAME: string (nullable = true)\n",
      " |-- LAST_VISIT_DT: string (nullable = true)\n",
      " |-- LAST_FULL_INSP_DT: string (nullable = true)\n",
      " |-- LAST_INSP_STAT: string (nullable = true)\n",
      " |-- PREM_ADDR: string (nullable = true)\n",
      " |-- BIN: string (nullable = true)\n",
      " |-- COMMUNITY BOARD: integer (nullable = true)\n",
      " |-- COUNCIL DISTRICT: integer (nullable = true)\n",
      " |-- BBL: long (nullable = true)\n",
      " |-- LATITUDE: double (nullable = true)\n",
      " |-- LONGITUDE: double (nullable = true)\n",
      " |-- POSTCODE: double (nullable = true)\n",
      " |-- BOROUGH: string (nullable = true)\n",
      " |-- Number: string (nullable = true)\n",
      " |-- Street: string (nullable = true)\n",
      " |-- Census Tract: string (nullable = true)\n",
      " |-- NTA: string (nullable = true)\n",
      "\n"
     ]
    }
   ],
   "source": [
    "dy.printSchema()"
   ]
  },
  {
   "cell_type": "code",
   "execution_count": 23,
   "id": "f160bd59-d28c-4890-8841-e23374c7f43e",
   "metadata": {},
   "outputs": [
    {
     "data": {
      "text/plain": [
       "[Row(ACCT_ID=1, ALPHA='P', OWNER_NAME='BEN RIC FUR FASHIONS INC', LAST_FULL_INSP_DT='03/23/2018', BIN='0', LATITUDE=None, LONGITUDE=None, POSTCODE=None, Street='UNION TNPK', Census Tract=None, NTA=None),\n",
       " Row(ACCT_ID=2, ALPHA='P', OWNER_NAME='RICHAL INC.', LAST_FULL_INSP_DT='03/23/2018', BIN='0', LATITUDE=None, LONGITUDE=None, POSTCODE=None, Street='UNION TNPK', Census Tract=None, NTA=None),\n",
       " Row(ACCT_ID=3, ALPHA='C', OWNER_NAME='CROSSTOWN MGT. CORP.', LAST_FULL_INSP_DT='03/29/2017', BIN='0', LATITUDE=None, LONGITUDE=None, POSTCODE=None, Street='UNION TNPK', Census Tract=None, NTA=None)]"
      ]
     },
     "execution_count": 23,
     "metadata": {},
     "output_type": "execute_result"
    }
   ],
   "source": [
    "dy_subset = dy.select(['ACCT_ID', 'ALPHA', 'OWNER_NAME', \n",
    "                      'LAST_FULL_INSP_DT', 'BIN', 'LATITUDE','LONGITUDE',\n",
    "                        'POSTCODE', 'Street', 'Census Tract', 'NTA'])\n",
    "\n",
    "dy_subset.take(3)"
   ]
  },
  {
   "cell_type": "code",
   "execution_count": 24,
   "id": "71c9a824-67d8-4183-81a8-ba90325f2c2a",
   "metadata": {},
   "outputs": [
    {
     "data": {
      "text/plain": [
       "378721"
      ]
     },
     "execution_count": 24,
     "metadata": {},
     "output_type": "execute_result"
    }
   ],
   "source": [
    "# DATA CLEANING\n",
    "# Removing null values\n",
    "dy_subset = dy_subset.na.drop(how = \"any\", subset=['POSTCODE', 'Street', \n",
    "                              'ALPHA', 'LATITUDE', 'LONGITUDE'])\n",
    "# providing placeholder values\n",
    "dy_subset = dy_subset.na.fill(\"placeholder owner name\", \"OWNER_NAME\")\n",
    "dy_subset = dy_subset.na.fill(\"12/08/2024\", 'LAST_FULL_INSP_DT')\n",
    "dy_subset.count()"
   ]
  },
  {
   "cell_type": "code",
   "execution_count": 25,
   "id": "d532bc45-859a-40d4-a942-44a1459518df",
   "metadata": {},
   "outputs": [
    {
     "data": {
      "text/plain": [
       "DataFrame[dt: timestamp]"
      ]
     },
     "execution_count": 25,
     "metadata": {},
     "output_type": "execute_result"
    }
   ],
   "source": [
    "# DATA PROCESSING\n",
    "# Chaning the date stamp from string to date format.\n",
    "dy_subset.select(to_timestamp(dy_subset['LAST_FULL_INSP_DT']\n",
    "    , 'yyyy-MM-dd').alias('dt'))"
   ]
  },
  {
   "cell_type": "code",
   "execution_count": 26,
   "id": "35e8871f-11f7-4ecb-9565-430139fc864b",
   "metadata": {},
   "outputs": [
    {
     "data": {
      "text/plain": [
       "[Row(ACCT_ID=395, ALPHA='N', OWNER_NAME='NYC ECONOM.DEVEL. CORP', LAST_FULL_INSP_DT='09/28/2018', BIN='1000003', LATITUDE=40.701047, LONGITUDE=-74.011672, POSTCODE=10004.0, Street='SOUTH ST', Census Tract='9', NTA='Battery Park City-Lower Manhattan'),\n",
       " Row(ACCT_ID=416, ALPHA='S', OWNER_NAME='BEDFORD CONSTRUCTION', LAST_FULL_INSP_DT='07/21/2014', BIN='1000003', LATITUDE=40.701047, LONGITUDE=-74.011672, POSTCODE=10004.0, Street='SOUTH ST', Census Tract='9', NTA='Battery Park City-Lower Manhattan'),\n",
       " Row(ACCT_ID=422, ALPHA='S', OWNER_NAME='GMC CONTRACTING SERV', LAST_FULL_INSP_DT='08/26/2014', BIN='1000003', LATITUDE=40.701047, LONGITUDE=-74.011672, POSTCODE=10004.0, Street='SOUTH ST', Census Tract='9', NTA='Battery Park City-Lower Manhattan')]"
      ]
     },
     "execution_count": 26,
     "metadata": {},
     "output_type": "execute_result"
    }
   ],
   "source": [
    "dy_subset.take(3)"
   ]
  },
  {
   "cell_type": "code",
   "execution_count": 27,
   "id": "195687df-f438-44fd-b180-70d1825bd427",
   "metadata": {},
   "outputs": [],
   "source": [
    "dy_subset.createOrReplaceTempView(\"fdny_table\")"
   ]
  },
  {
   "cell_type": "code",
   "execution_count": 28,
   "id": "9db21379-f202-448e-afd1-8b52573a750b",
   "metadata": {},
   "outputs": [
    {
     "name": "stdout",
     "output_type": "stream",
     "text": [
      "+--------------------+-----+\n",
      "|          OWNER_NAME|ALPHA|\n",
      "+--------------------+-----+\n",
      "|NYC ECONOM.DEVEL....|    N|\n",
      "|TRIZEC HAHN 1 NY ...|    N|\n",
      "| ONE NY PLAZA CO LLC|    N|\n",
      "|BROOKFIELD PROPER...|    N|\n",
      "|BROOKFIELD PROPER...|    N|\n",
      "|BROOKFIELD PROPER...|    N|\n",
      "|     SR PROP MANAGER|    N|\n",
      "|BROOKFIELD PROPER...|    N|\n",
      "|BROOKFIELD PROPER...|    N|\n",
      "|BROOKFIELD PROPER...|    N|\n",
      "|BROOKFIELD PROPER...|    N|\n",
      "|BROOKFIELD PROPER...|    N|\n",
      "|BROOKFIELD PROPER...|    N|\n",
      "|BROOKFIELD PROPER...|    N|\n",
      "|BROOKFIELD PROPER...|    N|\n",
      "|BROOKFIELD PROPER...|    N|\n",
      "|BROOKFIELD PROPER...|    N|\n",
      "|BROOKFIELD PROPER...|    N|\n",
      "|BROOKFIELD PROPER...|    N|\n",
      "|BROOKFIELD PROPER...|    N|\n",
      "+--------------------+-----+\n",
      "only showing top 20 rows\n",
      "\n"
     ]
    }
   ],
   "source": [
    "result = spark.sql(\n",
    "        \"select OWNER_NAME, ALPHA from fdny_table where ALPHA='N'\"\n",
    ")\n",
    "result.show()"
   ]
  },
  {
   "cell_type": "code",
   "execution_count": null,
   "id": "b824bd71-8750-4d37-a3da-db88fa38e0c7",
   "metadata": {},
   "outputs": [],
   "source": []
  }
 ],
 "metadata": {
  "kernelspec": {
   "display_name": "Python 3 (ipykernel)",
   "language": "python",
   "name": "python3"
  },
  "language_info": {
   "codemirror_mode": {
    "name": "ipython",
    "version": 3
   },
   "file_extension": ".py",
   "mimetype": "text/x-python",
   "name": "python",
   "nbconvert_exporter": "python",
   "pygments_lexer": "ipython3",
   "version": "3.12.1"
  }
 },
 "nbformat": 4,
 "nbformat_minor": 5
}

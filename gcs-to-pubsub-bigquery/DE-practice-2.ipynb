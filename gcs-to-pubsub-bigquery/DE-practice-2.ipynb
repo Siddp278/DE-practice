{
 "cells": [
  {
   "cell_type": "code",
   "execution_count": null,
   "id": "f414fd45-8896-4e66-ba13-834541157763",
   "metadata": {},
   "outputs": [],
   "source": [
    "# Creating a script to get messages for creating a keyword mapping.\n",
    "# Then creating a ranking system based on number of keywords found."
   ]
  },
  {
   "cell_type": "code",
   "execution_count": 2,
   "id": "666858ae-62b9-4019-bf11-a729e2a83fd8",
   "metadata": {},
   "outputs": [],
   "source": [
    "from pyspark.sql import SparkSession\n",
    "from pyspark.sql import functions as sf\n",
    "from pyspark.sql.functions import collect_list, concat_ws, split, explode, \\\n",
    "array_intersect, col, count, size, expr\n",
    "from pyspark.ml.feature import Tokenizer\n",
    "import requests\n",
    "import json"
   ]
  },
  {
   "cell_type": "code",
   "execution_count": 3,
   "id": "a1455dbd-e1aa-4b2f-938e-518335cf7b45",
   "metadata": {},
   "outputs": [
    {
     "name": "stderr",
     "output_type": "stream",
     "text": [
      "Setting default log level to \"WARN\".\n",
      "To adjust logging level use sc.setLogLevel(newLevel). For SparkR, use setLogLevel(newLevel).\n",
      "24/12/12 00:47:24 WARN NativeCodeLoader: Unable to load native-hadoop library for your platform... using builtin-java classes where applicable\n"
     ]
    }
   ],
   "source": [
    "spark = SparkSession.builder.appName(\"floods\").getOrCreate()"
   ]
  },
  {
   "cell_type": "code",
   "execution_count": 4,
   "id": "e1b52e05-e90a-4021-8e2a-0e86ed470a26",
   "metadata": {},
   "outputs": [
    {
     "name": "stdout",
     "output_type": "stream",
     "text": [
      "root\n",
      " |-- @context: string (nullable = true)\n",
      " |-- items: array (nullable = true)\n",
      " |    |-- element: struct (containsNull = true)\n",
      " |    |    |-- @id: string (nullable = true)\n",
      " |    |    |-- description: string (nullable = true)\n",
      " |    |    |-- eaAreaName: string (nullable = true)\n",
      " |    |    |-- eaRegionName: string (nullable = true)\n",
      " |    |    |-- floodArea: struct (nullable = true)\n",
      " |    |    |    |-- @id: string (nullable = true)\n",
      " |    |    |    |-- county: string (nullable = true)\n",
      " |    |    |    |-- notation: string (nullable = true)\n",
      " |    |    |    |-- polygon: string (nullable = true)\n",
      " |    |    |    |-- riverOrSea: string (nullable = true)\n",
      " |    |    |-- floodAreaID: string (nullable = true)\n",
      " |    |    |-- isTidal: boolean (nullable = true)\n",
      " |    |    |-- message: string (nullable = true)\n",
      " |    |    |-- severity: string (nullable = true)\n",
      " |    |    |-- severityLevel: long (nullable = true)\n",
      " |    |    |-- timeMessageChanged: string (nullable = true)\n",
      " |    |    |-- timeRaised: string (nullable = true)\n",
      " |    |    |-- timeSeverityChanged: string (nullable = true)\n",
      " |-- meta: struct (nullable = true)\n",
      " |    |-- comment: string (nullable = true)\n",
      " |    |-- documentation: string (nullable = true)\n",
      " |    |-- hasFormat: array (nullable = true)\n",
      " |    |    |-- element: string (containsNull = true)\n",
      " |    |-- licence: string (nullable = true)\n",
      " |    |-- publisher: string (nullable = true)\n",
      " |    |-- version: string (nullable = true)\n",
      "\n"
     ]
    }
   ],
   "source": [
    "data = spark.read.option(\"multiline\", \"true\").json(\n",
    "    \"/Users/siddp278/Desktop/projects/dummy data/spark-data/flood_data.json\"\n",
    ")\n",
    "data.printSchema()"
   ]
  },
  {
   "cell_type": "code",
   "execution_count": 5,
   "id": "d9b879bb-085d-4181-b9c1-93842848ed35",
   "metadata": {},
   "outputs": [
    {
     "data": {
      "text/plain": [
       "[Row(@context='http://environment.data.gov.uk/flood-monitoring/meta/context.jsonld', items=Row(@id='http://environment.data.gov.uk/flood-monitoring/id/floods/112WAFTUBA', description='Upper Bristol Avon area', eaAreaName='Wessex', eaRegionName='No longer used', floodArea=Row(@id='http://environment.data.gov.uk/flood-monitoring/id/floodAreas/112WAFTUBA', county='Gloucestershire, South Gloucestershire, Wiltshire', notation='112WAFTUBA', polygon='http://environment.data.gov.uk/flood-monitoring/id/floodAreas/112WAFTUBA/polygon', riverOrSea='Bristol River Avon'), floodAreaID='112WAFTUBA', isTidal=False, message='The levels on the River Avon upstream of Malmesbury and at Great Somerford are now falling. Flooding possible at  locations near the Bristol Avon, Tetbury Avon, Sherston Avon, Dauntsey Brook, with low lying land and roads expected to be most affected, particularly low lying areas in Tetbury, Badminton, Brook End at Luckington, Corsham, Lacock and the road at Reybridge. \\n\\nThe weather through the week is expected to be mainly dry and river levels are expected to continue falling. \\n\\nTake care and avoid walking, cycling or driving through flood water. Avoid using low lying footpaths and any bridges near watercourses. \\n\\nThis message will be updated by 10:30 AM on 12/12/2024, or as the situation changes.', severity='Flood alert', severityLevel=3, timeMessageChanged='2024-12-11T10:11:00', timeRaised='2024-12-11T10:11:48', timeSeverityChanged='2024-11-23T17:08:00'), meta=Row(comment='Status: Beta service', documentation='http://environment.data.gov.uk/flood-monitoring/doc/reference', hasFormat=['http://environment.data.gov.uk/flood-monitoring/id/floods.csv', 'http://environment.data.gov.uk/flood-monitoring/id/floods.rdf', 'http://environment.data.gov.uk/flood-monitoring/id/floods.ttl', 'http://environment.data.gov.uk/flood-monitoring/id/floods.html'], licence='http://www.nationalarchives.gov.uk/doc/open-government-licence/version/3/', publisher='Environment Agency', version='0.9')),\n",
       " Row(@context='http://environment.data.gov.uk/flood-monitoring/meta/context.jsonld', items=Row(@id='http://environment.data.gov.uk/flood-monitoring/id/floods/034WAB424', description='River Trent from Cromwell Weir to Gainsborough', eaAreaName='East Midlands', eaRegionName='No longer used', floodArea=Row(@id='http://environment.data.gov.uk/flood-monitoring/id/floodAreas/034WAB424', county='Lincolnshire, Nottinghamshire', notation='034WAB424', polygon='http://environment.data.gov.uk/flood-monitoring/id/floodAreas/034WAB424/polygon', riverOrSea='River Trent, River Idle'), floodAreaID='034WAB424', isTidal=False, message=' River levels are still high but steady at the Torksey river gauge as a result of high spring tides coinciding with high river levels. Consequently, the risk of flooding to low-lying land and roads continues. Areas most at risk are Church Laneham to Rampton Road. We expect river levels to remain high over the next few days. We are closely monitoring the situation. Please avoid using low-lying footpaths near local watercourses and plan driving routes to avoid low-lying roads near rivers, which may be flooded. To check the status of road closures online, please visit the One Network live map. This message will be updated after 09:00 tomorrow, 12/12/24, or as the situation changes.', severity='Flood alert', severityLevel=3, timeMessageChanged='2024-12-11T18:41:00', timeRaised='2024-12-11T18:41:18', timeSeverityChanged='2024-12-06T15:54:00'), meta=Row(comment='Status: Beta service', documentation='http://environment.data.gov.uk/flood-monitoring/doc/reference', hasFormat=['http://environment.data.gov.uk/flood-monitoring/id/floods.csv', 'http://environment.data.gov.uk/flood-monitoring/id/floods.rdf', 'http://environment.data.gov.uk/flood-monitoring/id/floods.ttl', 'http://environment.data.gov.uk/flood-monitoring/id/floods.html'], licence='http://www.nationalarchives.gov.uk/doc/open-government-licence/version/3/', publisher='Environment Agency', version='0.9'))]"
      ]
     },
     "execution_count": 5,
     "metadata": {},
     "output_type": "execute_result"
    }
   ],
   "source": [
    "df_exploded = data.withColumn(\"items\", sf.explode(sf.col(\"items\")))\n",
    "df_exploded.repartition(25)\n",
    "df_exploded.take(2)"
   ]
  },
  {
   "cell_type": "code",
   "execution_count": 6,
   "id": "0a125fc7-7583-4f48-a721-85986fc318b3",
   "metadata": {},
   "outputs": [],
   "source": [
    "# Combine all messages into a single string distributedly\n",
    "# messages_df = (\n",
    "#     df_exploded.select(\"items.message\").agg(concat_ws(\" \", collect_list(\"message\")).alias(\"all_messages\"))\n",
    "# )\n",
    "\n",
    "# messages_df.coalesce(1)\n",
    "# messages_df.write.mode(\"overwrite\").text(\"data/message.txt\")"
   ]
  },
  {
   "cell_type": "code",
   "execution_count": 7,
   "id": "e418ebaf-fb8e-4688-994a-bc366feeae96",
   "metadata": {},
   "outputs": [],
   "source": [
    "keywords = [\n",
    "    \"River\", \"Flooding\", \"Water\", \"Levels\", \"Land\", \"Roads\", \"Low-lying\", \"Footpaths\", \"Bridges\", \"Flood water\",\n",
    "    \"Monitoring\", \"Dry\", \"Rainfall\", \"High\", \"Falling\", \"Storm\", \"Darragh\", \"Warning\", \"Areas\", \"Discharge\",\n",
    "    \"Causeway\", \"Risk\", \"Danger\", \"Tributaries\", \"Floodplain\", \"Roads\", \"Tides\", \"Overflow\", \"Channels\", \"Rain\",\n",
    "    \"Reservoir\", \"Protection\", \"Diversion\", \"Communities\", \"Rising\", \"Drains\", \"Brook\", \"Gauge\", \"Upstream\",\n",
    "    \"Downstream\", \"Stagnant\", \"Sewage\", \"Evacuation\", \"Property\", \"Damage\", \"Environment\", \"Agency\", \"Hydrology\",\n",
    "    \"Submergence\", \"Drainage\", \"Weedscreens\", \"Obstruction\", \"Pathways\", \"Culverts\", \"Debris\", \"Saturation\",\n",
    "    \"Overflows\", \"Sediment\", \"Washes\", \"Tide lock\", \"Backwater\", \"Mooring\", \"Sluices\", \"Spillway\", \"Levees\",\n",
    "    \"Bank\", \"Overflowing\", \"Crest\", \"Flash\", \"Drought\", \"Precipitation\", \"Watershed\", \"Erosion\", \"Subsidence\",\n",
    "    \"Riverbanks\", \"Aquifers\", \"Gradient\", \"Streams\", \"Surface\", \"Inundation\", \"Pumping\", \"Dykes\", \"Dams\",\n",
    "    \"Groundwater\", \"Floodgate\", \"Seepage\", \"Retention\", \"Detention\", \"Backflow\", \"Saturated\", \"Basin\", \"Channels\",\n",
    "    \"Barriers\", \"Overflow\", \"Surge\", \"Scouring\", \"Flash flood\", \"Overflowing\", \"Alert\"\n",
    "]"
   ]
  },
  {
   "cell_type": "code",
   "execution_count": 8,
   "id": "2bb5b914-3c2e-4111-9131-961e3867bb09",
   "metadata": {},
   "outputs": [
    {
     "data": {
      "text/plain": [
       "112"
      ]
     },
     "execution_count": 8,
     "metadata": {},
     "output_type": "execute_result"
    }
   ],
   "source": [
    "df_exploded.count()"
   ]
  },
  {
   "cell_type": "code",
   "execution_count": 9,
   "id": "8ffa770c-bc22-42c3-8884-b4fdc2f55a52",
   "metadata": {},
   "outputs": [],
   "source": [
    "# Ranking system - # of keywords found/ total # of words in message\n",
    "\n",
    "# Filter for the specific words and count their occurrences\n",
    "df_with_word_counts = df_exploded.withColumn(\"words\", split(col(\"items.message\"), \" \")) \\\n",
    "    .withColumn(\"total_word_count\", size(col(\"words\"))) \\\n",
    "    .withColumn(\n",
    "        \"certain_word_count\",\n",
    "        expr(\n",
    "            f\"size(filter(words, word -> word IN ({', '.join([f'\\'{word}\\'' for word in keywords])})))\"\n",
    "        ),\n",
    "    )\n",
    "\n",
    "# Select required columns\n",
    "result = df_with_word_counts.select(\"total_word_count\", \"certain_word_count\")"
   ]
  },
  {
   "cell_type": "code",
   "execution_count": 10,
   "id": "53dae1bf-d756-4b20-ab01-5209db57a4b2",
   "metadata": {},
   "outputs": [
    {
     "data": {
      "text/plain": [
       "112"
      ]
     },
     "execution_count": 10,
     "metadata": {},
     "output_type": "execute_result"
    }
   ],
   "source": [
    "df_exploded.count()"
   ]
  },
  {
   "cell_type": "code",
   "execution_count": 11,
   "id": "57c1857b-e11c-4b22-889c-be1f6dc0ee71",
   "metadata": {},
   "outputs": [
    {
     "data": {
      "text/plain": [
       "112"
      ]
     },
     "execution_count": 11,
     "metadata": {},
     "output_type": "execute_result"
    }
   ],
   "source": [
    "result.count()"
   ]
  },
  {
   "cell_type": "code",
   "execution_count": 13,
   "id": "34d63211-7958-4f4f-9b50-4c979e030021",
   "metadata": {},
   "outputs": [
    {
     "data": {
      "text/plain": [
       "[Row(total_word_count=115, certain_word_count=3),\n",
       " Row(total_word_count=115, certain_word_count=2),\n",
       " Row(total_word_count=129, certain_word_count=1),\n",
       " Row(total_word_count=82, certain_word_count=3),\n",
       " Row(total_word_count=77, certain_word_count=3)]"
      ]
     },
     "execution_count": 13,
     "metadata": {},
     "output_type": "execute_result"
    }
   ],
   "source": [
    "result.take(5)"
   ]
  },
  {
   "cell_type": "code",
   "execution_count": null,
   "id": "542d0f2b-c0db-4804-8723-9787330db15c",
   "metadata": {},
   "outputs": [],
   "source": []
  }
 ],
 "metadata": {
  "kernelspec": {
   "display_name": "Python 3 (ipykernel)",
   "language": "python",
   "name": "python3"
  },
  "language_info": {
   "codemirror_mode": {
    "name": "ipython",
    "version": 3
   },
   "file_extension": ".py",
   "mimetype": "text/x-python",
   "name": "python",
   "nbconvert_exporter": "python",
   "pygments_lexer": "ipython3",
   "version": "3.12.1"
  }
 },
 "nbformat": 4,
 "nbformat_minor": 5
}
